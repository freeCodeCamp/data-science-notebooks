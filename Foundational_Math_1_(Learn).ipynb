{
  "nbformat": 4,
  "nbformat_minor": 0,
  "metadata": {
    "colab": {
      "name": "Foundational Math 1 (Learn).ipynb",
      "provenance": [],
      "collapsed_sections": [
        "EjxsoAEij2z5",
        "yAR4qoEcj7tv",
        "9n3Rf_u4kVRc",
        "33FosVOV1NBu",
        "rujSYyXZ3AOY",
        "6PeVH4Gx3PE3",
        "D5Z8_9gN39TD",
        "rPT2OymY4HdE",
        "yED2Dox44JYj",
        "uQdfUUlw4Kfg",
        "XEf8vCUH4Lc_",
        "EyV2Udzs4MVS",
        "76XeyVVM4NrX",
        "B4WZJ0Iv4O1d",
        "1hru9M7J4P48",
        "cG_JMTeb4Q-E",
        "a6Kr7wKq4SBP",
        "IIb5MHzI4TAU",
        "4VnLdwgZ4WHz",
        "98oHO4mh4X3e"
      ]
    },
    "kernelspec": {
      "name": "python3",
      "display_name": "Python 3"
    },
    "language_info": {
      "name": "python"
    }
  },
  "cells": [
    {
      "cell_type": "markdown",
      "metadata": {
        "id": "EsfO5Q92tL-6"
      },
      "source": [
        "[![freeCodeCamp](https://cdn.freecodecamp.org/testable-projects-fcc/images/fcc_secondary.svg)](https://freecodecamp.org/)"
      ]
    },
    {
      "cell_type": "markdown",
      "metadata": {
        "id": "OikF86Tfxsrq"
      },
      "source": [
        "**Learn Foundational Math 1 by Building an Equation Solver**<br>\n",
        "Each of these steps will lead you toward the Certification Project. Once you complete a step, click to expand the next step."
      ]
    },
    {
      "cell_type": "markdown",
      "metadata": {
        "id": "szp5flp1fA8-"
      },
      "source": [
        "# &darr; **Do this first** &darr;\n",
        "Copy this notebook to your own account by clicking the `File` button at the top, and then click `Save a copy in Drive`. You will need to be logged in to Google. The file will be in a folder called \"Colab Notebooks\" in your Google Drive. "
      ]
    },
    {
      "cell_type": "markdown",
      "metadata": {
        "id": "EjxsoAEij2z5"
      },
      "source": [
        "# Step 1 - Add"
      ]
    },
    {
      "cell_type": "markdown",
      "metadata": {
        "id": "tYdScbUgkif-"
      },
      "source": [
        "To help you get familiar with Jupyter notebooks, you will start with the basics. Python uses `+`, `-`, `*`, and `/` for the four math operations: `add`, `subtract`, `multiply`, and `divide`. When you add two numbers, the result is the `sum`. Use addition within the `print` statement to get the sum of a and b. To run the code, you can hit `shift` and `enter` or you can click the run button."
      ]
    },
    {
      "cell_type": "code",
      "metadata": {
        "id": "muuUL56MknVm"
      },
      "source": [
        "a = 1\n",
        "b = 2\n",
        "\n",
        "# change the next line to print the sum of a and b\n",
        "print(a)\n",
        "\n",
        "\n",
        "# Only change code above this line\n",
        "# Below are tests. You can look at them if you like, but do not change them.\n",
        "\n",
        "import re\n",
        "from IPython.display import HTML\n",
        "\n",
        "print(\" \")\n",
        "code = In[-1].split('# Only change code above this line')[0];\n",
        "if re.search(\"print\\s*\\(\\s*[a]\\s*\\+\\s*[b]\\s*\\)\", code):\n",
        "    print(\"Code test passed\")\n",
        "else:\n",
        "    print(\"You should use `print(a + b)` in your code\")\n",
        "\n",
        "HTML('''<br><div style=\"font-family:Monospace\"><span style=\"color: #b30000\"id=\"error\"></span><span id=\"message\"></span></div><script type=\"text/javascript\">const output=document.getElementsByTagName('pre')[0];function appendMessage(message, color){const el1=document.getElementById('error');const el2=document.getElementById('message');if(color === '#000')el1.innerText+='Assertion Error';el2.style.color=color;el2.innerText+=message}try{\n",
        "if(!/3/.test(output.innerText))throw\": Your code should only print `3`\";\n",
        "appendMessage('Output Test Passed')}catch(e){appendMessage(e)}</script>''')\n",
        "\n"
      ],
      "execution_count": null,
      "outputs": []
    },
    {
      "cell_type": "markdown",
      "metadata": {
        "id": "yAR4qoEcj7tv"
      },
      "source": [
        "# Step 2 - Subtract"
      ]
    },
    {
      "cell_type": "markdown",
      "metadata": {
        "id": "kxpYn-rfjomx"
      },
      "source": [
        "When you subtract two numbers, the result is the `difference`. Use subtraction in the print statement to get the difference between c and d. Remember to use `shift` and `enter` to run the code.\n"
      ]
    },
    {
      "cell_type": "code",
      "metadata": {
        "id": "cLscGSGcjtPM"
      },
      "source": [
        "c = 7\n",
        "d = 3\n",
        "\n",
        "# change the next line to print the positive difference between c and d\n",
        "print(c)\n",
        "\n",
        "\n",
        "# Only change code above this line\n",
        "# Below are tests. You can look at them if you like, but do not change them.\n",
        "\n",
        "import re\n",
        "from IPython.display import HTML\n",
        "\n",
        "print(\" \")\n",
        "code = In[-1].split('# Only change code above this line')[0];\n",
        "if re.search(\"print\\s*\\(\\s*[c]\\s*\\-\\s*[d]\\s*\\)\", code):\n",
        "    print(\"Code test passed\")\n",
        "else:\n",
        "    print(\"You should use `print(c - d)` in your code\")\n",
        "\n",
        "HTML('''<br><div style=\"font-family:Monospace\"><span style=\"color: #b30000\"id=\"error\"></span><span id=\"message\"></span></div><script type=\"text/javascript\">const output=document.getElementsByTagName('pre')[0];function appendMessage(message, color){const el1=document.getElementById('error');const el2=document.getElementById('message');if(color === '#000')el1.innerText+='Assertion Error';el2.style.color=color;el2.innerText+=message}try{\n",
        "if(!/4/.test(output.innerText))throw\"Your code should only print `4`\";\n",
        "appendMessage('Output Test Passed')}catch(e){appendMessage(e)}</script>''')\n",
        "\n"
      ],
      "execution_count": null,
      "outputs": []
    },
    {
      "cell_type": "markdown",
      "metadata": {
        "id": "9n3Rf_u4kVRc"
      },
      "source": [
        "# Step 3 - Multiply"
      ]
    },
    {
      "cell_type": "markdown",
      "metadata": {
        "id": "upss2rbrkNE3"
      },
      "source": [
        "When you multiply numbers, the result is the `product`. Use multiplication within the print statement to get the product of e and f:\n"
      ]
    },
    {
      "cell_type": "code",
      "metadata": {
        "id": "riH3m4YekQNk"
      },
      "source": [
        "e = 2\n",
        "f = 4\n",
        "\n",
        "# change the next line to print the product of e and f\n",
        "print(e)\n",
        "\n",
        "\n",
        "# Only change code above this line\n",
        "# Below are tests. You can look at them if you like, but do not change them.\n",
        "\n",
        "import re\n",
        "from IPython.display import HTML\n",
        "\n",
        "print(\" \")\n",
        "code = In[-1].split('# Only change code above this line')[0];\n",
        "if re.search(\"print\\s*\\(\\s*[e]\\s*\\*\\s*[f]\\s*\\)\", code):\n",
        "    print(\"Code test passed\")\n",
        "else:\n",
        "    print(\"You should use `print(e * f)` in your code\")\n",
        "\n",
        "HTML('''<br><div style=\"font-family:Monospace\"><span style=\"color: #b30000\"id=\"error\"></span><span id=\"message\"></span></div><script type=\"text/javascript\">const output=document.getElementsByTagName('pre')[0];function appendMessage(message, color){const el1=document.getElementById('error');const el2=document.getElementById('message');if(color === '#000')el1.innerText+='Assertion Error';el2.style.color=color;el2.innerText+=message}try{\n",
        "if(!/8/.test(output.innerText))throw\"Your code should only print `8`\";\n",
        "appendMessage('Output Test Passed')}catch(e){appendMessage(e)}</script>''')\n",
        "\n"
      ],
      "execution_count": null,
      "outputs": []
    },
    {
      "cell_type": "markdown",
      "metadata": {
        "id": "33FosVOV1NBu"
      },
      "source": [
        "# Step 4 - Divide\n"
      ]
    },
    {
      "cell_type": "markdown",
      "metadata": {
        "id": "odHJk50S1V05"
      },
      "source": [
        "When you divide two numbers, the result is the `quotient`. Use division within the print statement to get the quotient of g and h:"
      ]
    },
    {
      "cell_type": "code",
      "metadata": {
        "id": "5YWS8tuA1UMc"
      },
      "source": [
        "g = 8\n",
        "h = 4\n",
        "\n",
        "# change the next line\n",
        "print(g)\n",
        "\n",
        "\n",
        "# Only change code above this line\n",
        "# Below are tests. You can look at them if you like, but do not change them.\n",
        "\n",
        "import re\n",
        "from IPython.display import HTML\n",
        "\n",
        "print(\" \")\n",
        "code = In[-1].split('# Only change code above this line')[0];\n",
        "if re.search(\"print\\s*\\(\\s*[g]\\s*\\/\\s*[h]\\s*\\)\", code):\n",
        "    print(\"Code test passed\")\n",
        "else:\n",
        "    print(\"You should use `print(g/h)` in your code\")\n",
        "\n",
        "HTML('''<br><div style=\"font-family:Monospace\"><span style=\"color: #b30000\"id=\"error\"></span><span id=\"message\"></span></div><script type=\"text/javascript\">const output=document.getElementsByTagName('pre')[0];function appendMessage(message, color){const el1=document.getElementById('error');const el2=document.getElementById('message');if(color === '#000')el1.innerText+='Assertion Error';el2.style.color=color;el2.innerText+=message}try{\n",
        "if(!/2/.test(output.innerText))throw\"Your code should only print `2`\";\n",
        "appendMessage('Output Test Passed')}catch(e){appendMessage(e)}</script>''')\n",
        "\n"
      ],
      "execution_count": null,
      "outputs": []
    },
    {
      "cell_type": "markdown",
      "metadata": {
        "id": "rujSYyXZ3AOY"
      },
      "source": [
        "# Step 5 - Cast Input"
      ]
    },
    {
      "cell_type": "markdown",
      "metadata": {
        "id": "ttrSrlGh3CK8"
      },
      "source": [
        "User input comes in as a `string`.<br> \n",
        "You need to cast it as an `integer` or a `float` before doing any math.<br>\n",
        "Remember that a `float` variable allows decimal places.<br> \n",
        "The code below asks for two numbers and casts them as integers.<br> \n",
        "Notice how the print statement uses commas to combine variables with strings.<br>\n",
        "The first print statement is complete, so you can use it as a model.<br> \n",
        "Complete the next line of code so the output equation is true.<br>"
      ]
    },
    {
      "cell_type": "code",
      "metadata": {
        "id": "fWYQrvOP3Cif"
      },
      "source": [
        "strA = input('Enter a positive one-digit integer: ')\n",
        "strB = input('Enter another positive one-digit integer: ')\n",
        "intA = int(strA)\n",
        "intB = int(strB)\n",
        "\n",
        "# Use this first line as a model:\n",
        "print(intA, ' + ', intB, ' = ', intA+intB)\n",
        "\n",
        "# complete the following line:\n",
        "print(intA, ' * ', intB, ' = ')\n",
        "\n",
        "\n",
        "\n",
        "# Only change code above this line\n",
        "# Below are tests. You can look at them if you like, but do not change them.\n",
        "\n",
        "import re\n",
        "from IPython.display import HTML\n",
        "\n",
        "pass_count = 0\n",
        "print(\" \")\n",
        "code = In[-1].split('# Only change code above this line')[0];\n",
        "\n",
        "if code.find(\"\\' = \\', intA*intB\")>=0:\n",
        "    pass_count = pass_count + 1\n",
        "else:\n",
        "    print(\"You should use `intA*intB` in your code\")\n",
        "\n",
        "if pass_count==1:\n",
        "    print(\"Code test passed\")\n",
        "\n",
        "HTML('''<br><div style=\"font-family:Monospace\"><span style=\"color: #b30000\"id=\"error\"></span><span id=\"message\"></span></div><script type=\"text/javascript\">const output=document.getElementsByTagName('pre')[0];function appendMessage(message, color){const el1=document.getElementById('error');const el2=document.getElementById('message');if(color === '#000')el1.innerText+='Assertion Error';el2.style.color=color;el2.innerText+=message}try{\n",
        "var a=output.innerText[82]; var b=output.innerText[88]; var c=a*b;\n",
        "const regexC = new RegExp(/c/);\n",
        "if(regexC.test(output.innerText))throw\"Your code should print \"+c;\n",
        "appendMessage('Output Test Passed')}catch(e){appendMessage(e)}</script>''')\n",
        "\n"
      ],
      "execution_count": null,
      "outputs": []
    },
    {
      "cell_type": "markdown",
      "metadata": {
        "id": "6PeVH4Gx3PE3"
      },
      "source": [
        "# Step 6 - Order of Operations"
      ]
    },
    {
      "cell_type": "markdown",
      "metadata": {
        "id": "tComwmxt3UuP"
      },
      "source": [
        "You may have heard of the `order of operations` and the acronym `PEMDAS`, which reminds you of the correct order. This means that you do what is in `P`<b>arentheses</b> first, then simplify `E`<b>xponents</b>. You then do all of the `M`<b>ultiplication</b> and `D`<b>ivision</b> together, as long as you work from left to right and simplify them in order. The same is true of `A`<b>ddition</b> and `S`<b>ubtraction</b>: work from left to right and simplify the one the comes up next. Python knows the order of operations. In the following code, Python will calculate the actual_answer correctly. Notice the use of `**` to indicate an exponent. Predict the answer and make that your_answer, then run the code to see if your_answer matches the actual_answer."
      ]
    },
    {
      "cell_type": "code",
      "metadata": {
        "id": "d-3CdCL53VHA"
      },
      "source": [
        "actual_answer = (3+4*5-14/2)**2\n",
        "\n",
        "# Put your answer on the following line:\n",
        "your_answer = 0\n",
        "\n",
        "print('Actual answer is ', actual_answer)\n",
        "print('Your answer is ', your_answer)\n",
        "\n",
        "\n",
        "# Only change code above this line\n",
        "# Below are tests. You can look at them if you like, but do not change them.\n",
        "\n",
        "import re\n",
        "\n",
        "print(\" \")\n",
        "code = In[-1].split('# Only change code above this line')[0];\n",
        "\n",
        "if re.search(\"your_answer = 256\", code):\n",
        "    print(\"Code test passed\")\n",
        "else:\n",
        "    print(\"You can try again if you like\")\n",
        "\n"
      ],
      "execution_count": null,
      "outputs": []
    },
    {
      "cell_type": "markdown",
      "metadata": {
        "id": "D5Z8_9gN39TD"
      },
      "source": [
        "# Step 7 - Remainder and Modulus"
      ]
    },
    {
      "cell_type": "markdown",
      "metadata": {
        "id": "IBEwjqML39TH"
      },
      "source": [
        "A remainder is what is left over when you try to divide two numbers and it doesn’t divide evenly. The remainder of 10 / 4 is 2 because 4 goes into 10 two whole times, with 2 left over. The modulus (`%`) operator will output the remainder, so 10 % 4 will return 2. Use the modulus operator to find the remainder of a divided by b:"
      ]
    },
    {
      "cell_type": "code",
      "metadata": {
        "id": "EonWJtHS39TI"
      },
      "source": [
        "a = 14\n",
        "b = 6\n",
        "\n",
        "# change this line\n",
        "print(a)\n",
        "\n",
        "\n",
        "# Only change code above this line\n",
        "# Below are tests. You can look at them if you like, but do not change them.\n",
        "\n",
        "import re\n",
        "from IPython.display import HTML\n",
        "\n",
        "print(\" \")\n",
        "code = In[-1].split('# Only change code above this line')[0];\n",
        "if re.search(\"print\\s*\\(\\s*[a]\\s*\\%\\s*[b]\\s*\\)\", code):\n",
        "    print(\"Code test passed\")\n",
        "else:\n",
        "    print(\"You should use `print(a % b)` in your code\")\n",
        "\n",
        "HTML('''<br><div style=\"font-family:Monospace\"><span style=\"color: #b30000\"id=\"error\"></span><span id=\"message\"></span></div><script type=\"text/javascript\">const output=document.getElementsByTagName('pre')[0];function appendMessage(message, color){const el1=document.getElementById('error');const el2=document.getElementById('message');if(color === '#000')el1.innerText+='Assertion Error';el2.style.color=color;el2.innerText+=message}try{\n",
        "if(!/2/.test(output.innerText))throw\"Your code should only print `2`\";\n",
        "appendMessage('Output Test Passed')}catch(e){appendMessage(e)}</script>''')\n",
        "\n"
      ],
      "execution_count": null,
      "outputs": []
    },
    {
      "cell_type": "markdown",
      "metadata": {
        "id": "rPT2OymY4HdE"
      },
      "source": [
        "# Step 8 - Testing Factors"
      ]
    },
    {
      "cell_type": "markdown",
      "metadata": {
        "id": "Ct7JeTNm4HdF"
      },
      "source": [
        "Using the modulus operator, you can find out if a number is a factor of another.<br>\n",
        "To see if `5` is a factor of `20`, you can test `if 20 % 5 == 0`.<br>\n",
        "If there's no remainder, the second number is a factor of the first.<br>\n",
        "Remember that Python comparisons use `==` to test values.<br>\n",
        "Notice the `if` part ends in a colon (`:`)<br>\n",
        "and everything that happens `then` is indented four spaces.<br>\n",
        "Finish the code below to print \"true\" if `maybe_factor` is a factor of `whole_number`<br> and print \"false\" if it is not."
      ]
    },
    {
      "cell_type": "code",
      "metadata": {
        "id": "fRe04K3a4HdF"
      },
      "source": [
        "a = input('Enter an integer: ')\n",
        "b = input('Enter an integer to see if it’s a factor: ')\n",
        "whole_number = int(a)\n",
        "maybe_factor = int(b)\n",
        "\n",
        "# Change this line to test the factor:\n",
        "if whole_number:\n",
        "    print('true')\n",
        "else:\n",
        "    print('false')\n",
        "\n",
        "\n",
        "# Only change code above this line\n",
        "# Below are tests. You can look at them if you like, but do not change them.\n",
        "\n",
        "import re\n",
        "\n",
        "print(\" \")\n",
        "code = In[-1].split('# Only change code above this line')[0];\n",
        "if re.search(\"if whole_number % maybe_factor == 0\", code):\n",
        "    print(\"Code test passed\")\n",
        "    print(\"Output test passed\")\n",
        "else:\n",
        "    print(\"Code test failed\")\n",
        "    print(\"You should use `if whole_number % maybe_factor == 0` in your code\")\n",
        "\n"
      ],
      "execution_count": null,
      "outputs": []
    },
    {
      "cell_type": "markdown",
      "metadata": {
        "id": "yED2Dox44JYj"
      },
      "source": [
        "# Step 9 - Finding Factors"
      ]
    },
    {
      "cell_type": "markdown",
      "metadata": {
        "id": "oMQEeGVI4JYk"
      },
      "source": [
        "Now you will find all of the factors of a number. Notice how this code requests input and casts that input all in one line. The code also has a loop with a variable, `test_factor`, that iterates through a defined range. Remember that the first line defining the loop ends in a colon (:) and each line in the loop requires a four-space indent. Finish the code with an `if` statement and a print statement to find all the factors of `number`."
      ]
    },
    {
      "cell_type": "code",
      "metadata": {
        "id": "YQqur5gF4JYk"
      },
      "source": [
        "number=int(input('Enter an integer: '))\n",
        "\n",
        "# Change the if statement and the print statement:\n",
        "for test_factor in range(1, number+1):\n",
        "    if number:\n",
        "        print()\n",
        "        \n",
        "\n",
        "\n",
        "# Only change code above this line\n",
        "# Below are tests. You can look at them if you like, but do not change them.\n",
        "\n",
        "import re\n",
        "from IPython.display import HTML\n",
        "\n",
        "print(\" \")\n",
        "pass_count = 0\n",
        "code = In[-1].split('# Only change code above this line')[0];\n",
        "if re.search(\"if number % test_factor == 0:\", code):\n",
        "    pass_count = pass_count + 1 \n",
        "else:\n",
        "    print(\"Your code should inlcude `if number % test_factor == 0:`\")\n",
        " \n",
        "if re.search(\"print\\(test_factor\\)\", code):\n",
        "    pass_count = pass_count + 1\n",
        "else:\n",
        "    print(\"Your code should inlcude `print(test_factor)`\")\n",
        "\n",
        "if pass_count==2:\n",
        "    print(\"Code test passed\")\n",
        "    \n",
        "HTML('''<br><div style=\"font-family:Monospace\"><span style=\"color: #b30000\"id=\"error\"></span><span id=\"message\"></span></div><script type=\"text/javascript\">const output=document.getElementsByTagName('pre')[0];function appendMessage(message, color){const el1=document.getElementById('error');const el2=document.getElementById('message');if(color === '#000')el1.innerText+='Assertion Error';el2.style.color=color;el2.innerText+=message}try{\n",
        "if(!/\\d\\s*\\d\\s*\\d/.test(output.innerText))throw\"Your code should print at least one number\";\n",
        "appendMessage('Output Test Passed')}catch(e){appendMessage(e)}</script>''')\n"
      ],
      "execution_count": null,
      "outputs": []
    },
    {
      "cell_type": "markdown",
      "metadata": {
        "id": "uQdfUUlw4Kfg"
      },
      "source": [
        "# Step 10 - Prime Numbers"
      ]
    },
    {
      "cell_type": "markdown",
      "metadata": {
        "id": "ngn_lXfv4Kfh"
      },
      "source": [
        "A `prime` number is a number whose only factors are `1` and itself. The number `5` is prime because its only factors are `1` and `5`, but the `6` is not prime because it has `1`, `2`, `3`, and `6` as factors. Any number that is not a prime is a `composite`. Change two lines in the code below so that it prints \"prime\" if the input is prime, or \"composite\" if it is not."
      ]
    },
    {
      "cell_type": "code",
      "metadata": {
        "id": "9q6wtSTg4Kfh"
      },
      "source": [
        "test_number = int(input(\"Enter an integer: \"))\n",
        "\n",
        "prime_or_comp = \"prime\"\n",
        "\n",
        "for i in range(2,test_number):\n",
        "    # change the if statement here:\n",
        "    if (test_number):\n",
        "        # change the next line to say \"composite\" (instead of \"x\")  \n",
        "        prime_or_comp = \"x\" \n",
        "\n",
        "print(prime_or_comp)\n",
        "\n",
        "\n",
        "# Only change code above this line\n",
        "# Below are tests. You can look at them if you like, but do not change them.\n",
        "\n",
        "import re\n",
        "from IPython.display import HTML\n",
        "\n",
        "print(\" \")\n",
        "pass_count = 0\n",
        "code = In[-1].split('# Only change code above this line')[0];\n",
        "if re.search(\"if test_number % i == 0:\", code):\n",
        "    print(\"Code test passed\")\n",
        "else:\n",
        "    print(\"Your code should inlcude `if test_number % i == 0:`\")\n",
        "     \n",
        "    \n",
        "HTML('''<br><div style=\"font-family:Monospace\"><span style=\"color: #b30000\"id=\"error\"></span><span id=\"message\"></span></div><script type=\"text/javascript\">const output=document.getElementsByTagName('pre')[0];function appendMessage(message, color){const el1=document.getElementById('error');const el2=document.getElementById('message');if(color === '#000')el1.innerText+='Assertion Error';el2.style.color=color;el2.innerText+=message}try{\n",
        "if(/[x]/.test(output.innerText))throw\"Your code should print 'prime' or 'composite'\";\n",
        "appendMessage('Output Test Passed')}catch(e){appendMessage(e)}</script>''')\n"
      ],
      "execution_count": null,
      "outputs": []
    },
    {
      "cell_type": "markdown",
      "metadata": {
        "id": "XEf8vCUH4Lc_"
      },
      "source": [
        "# Step 11 - Reciprocals"
      ]
    },
    {
      "cell_type": "markdown",
      "metadata": {
        "id": "QrV7DGum4Lc_"
      },
      "source": [
        "A *reciprocal* is a number \"flipped.\" The reciprocal of $\\frac{2}{3}$ is $\\frac{3}{2}$ and the reciprocal of 5 is $\\frac{1}{5}$ because whole numbers have denominators of 1. You can multiply a number by its reciprocal to get 1, so 5 * $\\frac{1}{5}$ = 1 and $\\frac{2}{3}$ * $\\frac{3}{2}$ = 1. To get the reciprocal of a number, take 1 divided by that number. trying to get the reciprocal of zero will lead to a \"divide by zero\" error. Notice that you will cast the input string as a `float` number because it does not have to be an integer. Use a print statement to output the reciprocal of `n` as a decimal. "
      ]
    },
    {
      "cell_type": "code",
      "metadata": {
        "id": "rwExvDuM4LdA"
      },
      "source": [
        "n = float(input('Enter a number: '))\n",
        "\n",
        "# write your code here\n",
        "\n",
        "\n",
        "\n",
        "\n",
        "# Only change code above this line\n",
        "# Below are tests. You can look at them if you like, but do not change them.\n",
        "\n",
        "import re\n",
        "from IPython.display import HTML\n",
        "\n",
        "print(\" \")\n",
        "code = In[-1].split('# Only change code above this line')[0];\n",
        "if re.search(\"print\\(1/n\\)\", code):\n",
        "    print(\"Code test passed\")\n",
        "else:\n",
        "    print(\"Your code should inlcude 'print(1/n)'\")\n",
        "     \n",
        "    \n",
        "HTML('''<br><div style=\"font-family:Monospace\"><span style=\"color: #b30000\"id=\"error\"></span><span id=\"message\"></span></div><script type=\"text/javascript\">const output=document.getElementsByTagName('pre')[0];function appendMessage(message, color){const el1=document.getElementById('error');const el2=document.getElementById('message');if(color === '#000')el1.innerText+='Assertion Error';el2.style.color=color;el2.innerText+=message}try{\n",
        "if(!/\\./.test(output.innerText))throw\"Your code should output a different number\";\n",
        "appendMessage('Output Test Passed')}catch(e){appendMessage(e)}</script>''')\n"
      ],
      "execution_count": null,
      "outputs": []
    },
    {
      "cell_type": "markdown",
      "metadata": {
        "id": "EyV2Udzs4MVS"
      },
      "source": [
        "# Step 12 - Float Numbers"
      ]
    },
    {
      "cell_type": "markdown",
      "metadata": {
        "id": "_GoKZbiS4MVS"
      },
      "source": [
        "The code below asks for two integers, separated by a comma, then splits the input at the comma. Notice the `split()` creates an array with two elements. Finish the following code to cast the two variables \"a\" and \"b\" as `float` numbers, divide the two numbers, and print the results."
      ]
    },
    {
      "cell_type": "code",
      "metadata": {
        "id": "axr86XQ04MVS"
      },
      "source": [
        "nums = input('Enter two numbers, separted by a comma: ')\n",
        "sp = nums.split(\",\")\n",
        "\n",
        "# Change the next two lines to cast the numbers as float:\n",
        "a = sp[0]\n",
        "b = sp[1]\n",
        "\n",
        "# Change this line of code:\n",
        "print(a/b)\n",
        "\n",
        "\n",
        "\n",
        "# Only change code above this line\n",
        "# Below are tests. You can look at them if you like, but do not change them.\n",
        "\n",
        "import re\n",
        "from IPython.display import HTML\n",
        "\n",
        "print(\" \")\n",
        "code = In[-1].split('# Only change code above this line')[0];\n",
        "if re.search(\"float\\(sp\\[0\\]\\)\", code):\n",
        "    print(\"Code test passed\")\n",
        "else:\n",
        "    print(\"Your code should inlcude 'float(sp[0])' and 'float(sp[1])'\")\n",
        "     \n",
        "    \n",
        "HTML('''<br><div style=\"font-family:Monospace\"><span style=\"color: #b30000\"id=\"error\"></span><span id=\"message\"></span></div><script type=\"text/javascript\">const output=document.getElementsByTagName('pre')[0];function appendMessage(message, color){const el1=document.getElementById('error');const el2=document.getElementById('message');if(color === '#000')el1.innerText+='Assertion Error';el2.style.color=color;el2.innerText+=message}try{\n",
        "if(/[w][r][o]/.test(output.innerText))throw\"Your code should output a number\";\n",
        "appendMessage('Output Test Passed')}catch(e){appendMessage(e)}</script>''')\n"
      ],
      "execution_count": null,
      "outputs": []
    },
    {
      "cell_type": "markdown",
      "metadata": {
        "id": "76XeyVVM4NrX"
      },
      "source": [
        "# Step 13 - Square Numbers"
      ]
    },
    {
      "cell_type": "markdown",
      "metadata": {
        "id": "cNCxDnCt4NrX"
      },
      "source": [
        "One factor multiplied by itsef will produce a `square` number, so a number raised to an exponent of 2 is that number `squared` (like calculating the area of a square). Python uses `**` to indicate exponents. Complete the code to print the square of the input."
      ]
    },
    {
      "cell_type": "code",
      "metadata": {
        "id": "ZyikhBYd4NrX"
      },
      "source": [
        "n=float(input('Enter a number to sqare: '))\n",
        "\n",
        "# Change this line of code:\n",
        "print(\"x\")\n",
        "\n",
        "\n",
        "# Only change code above this line\n",
        "# Below are tests. You can look at them if you like, but do not change them.\n",
        "\n",
        "import re\n",
        "from IPython.display import HTML\n",
        "\n",
        "print(\" \")\n",
        "code = In[-1].split('# Only change code above this line')[0];\n",
        "if re.search(\"print\\(n\\*\\*2\\)\", code):\n",
        "    print(\"Code test passed\")\n",
        "else:\n",
        "    print(\"Your code should inlcude 'print(n**2)'\")\n",
        "     \n",
        "    \n",
        "HTML('''<br><div style=\"font-family:Monospace\"><span style=\"color: #b30000\"id=\"error\"></span><span id=\"message\"></span></div><script type=\"text/javascript\">const output=document.getElementsByTagName('pre')[0];function appendMessage(message, color){const el1=document.getElementById('error');const el2=document.getElementById('message');if(color === '#000')el1.innerText+='Assertion Error';el2.style.color=color;el2.innerText+=message}try{\n",
        "if(/[x]/.test(output.innerText))throw\"Your code should output a square number\";\n",
        "appendMessage('Output Test Passed')}catch(e){appendMessage(e)}</script>''')\n"
      ],
      "execution_count": null,
      "outputs": []
    },
    {
      "cell_type": "markdown",
      "metadata": {
        "id": "B4WZJ0Iv4O1d"
      },
      "source": [
        "# Step 14 - Square Root Function"
      ]
    },
    {
      "cell_type": "markdown",
      "metadata": {
        "id": "R3RBO7tF4O1d"
      },
      "source": [
        "You can find the square root of a number with the `sqrt()` function. To use this function, you need to import the math library. This library enables you to use many functions, as you will see in later steps. To get the square root of x, you would write `math.sqrt(x)`. Complete the code to print the square root of a number."
      ]
    },
    {
      "cell_type": "code",
      "metadata": {
        "id": "MSkW_Md24O1d"
      },
      "source": [
        "import math\n",
        "\n",
        "x = float(input('Enter a number to find the square root: '))\n",
        "\n",
        "# Change the next line of code:\n",
        "print(\"x\")\n",
        "\n",
        "\n",
        "# Only change code above this line\n",
        "# Below are tests. You can look at them if you like, but do not change them.\n",
        "\n",
        "import re\n",
        "from IPython.display import HTML\n",
        "\n",
        "print(\" \")\n",
        "code = In[-1].split('# Only change code above this line')[0];\n",
        "if re.search(\"print\\(math.sqrt\\(x\\)\\)\", code):\n",
        "    print(\"Code test passed\")\n",
        "else:\n",
        "    print(\"Your code should inlcude 'print(math.sqrt(x))'\")\n",
        "     \n",
        "    \n",
        "HTML('''<br><div style=\"font-family:Monospace\"><span style=\"color: #b30000\"id=\"error\"></span><span id=\"message\"></span></div><script type=\"text/javascript\">const output=document.getElementsByTagName('pre')[0];function appendMessage(message, color){const el1=document.getElementById('error');const el2=document.getElementById('message');if(color === '#000')el1.innerText+='Assertion Error';el2.style.color=color;el2.innerText+=message}try{\n",
        "if(/[x]/.test(output.innerText))throw\"Your code should output a square root\";\n",
        "appendMessage('Output Test Passed')}catch(e){appendMessage(e)}</script>''')\n",
        "\n",
        "\n"
      ],
      "execution_count": null,
      "outputs": []
    },
    {
      "cell_type": "markdown",
      "metadata": {
        "id": "1hru9M7J4P48"
      },
      "source": [
        "# Step 15 - Floor Function"
      ]
    },
    {
      "cell_type": "markdown",
      "metadata": {
        "id": "VG-12xT94P48"
      },
      "source": [
        "The`floor()` function drops any decimals and sometimes is called the \"integer part\" of a number. Complete the code to print the floor of a number. Notice again you import math and use `math.floor(x)`  "
      ]
    },
    {
      "cell_type": "code",
      "metadata": {
        "id": "F-c0gsQL4P48"
      },
      "source": [
        "import math\n",
        "\n",
        "x = float(input('Enter a number with decimal places: '))\n",
        "\n",
        "# Change the next line of code:\n",
        "print(\"x\")\n",
        "\n",
        "\n",
        "\n",
        "# Only change code above this line\n",
        "# Below are tests. You can look at them if you like, but do not change them.\n",
        "\n",
        "import re\n",
        "from IPython.display import HTML\n",
        "\n",
        "print(\" \")\n",
        "code = In[-1].split('# Only change code above this line')[0];\n",
        "if re.search(\"print\\(math.floor\\(x\\)\\)\", code):\n",
        "    print(\"Code test passed\")\n",
        "else:\n",
        "    print(\"Your code should inlcude 'print(math.floor(x))'\")\n",
        "     \n",
        "    \n",
        "HTML('''<br><div style=\"font-family:Monospace\"><span style=\"color: #b30000\"id=\"error\"></span><span id=\"message\"></span></div><script type=\"text/javascript\">const output=document.getElementsByTagName('pre')[0];function appendMessage(message, color){const el1=document.getElementById('error');const el2=document.getElementById('message');if(color === '#000')el1.innerText+='Assertion Error';el2.style.color=color;el2.innerText+=message}try{\n",
        "if(/[x]/.test(output.innerText))throw\"Your code should output a number\";\n",
        "appendMessage('Output Test Passed')}catch(e){appendMessage(e)}</script>''')\n",
        "\n"
      ],
      "execution_count": null,
      "outputs": []
    },
    {
      "cell_type": "markdown",
      "metadata": {
        "id": "cG_JMTeb4Q-E"
      },
      "source": [
        "# Step 16 - Finding Square Factors"
      ]
    },
    {
      "cell_type": "markdown",
      "metadata": {
        "id": "oN6isUiz4Q-E"
      },
      "source": [
        "This step will combine a few things you have already done. Remember that a square number is an integer that is the result of multiplying another integer by itself. Just as you created a loop to find factors of an integer, here you will find the greatest factor that is a perfect square. For example, 2 is a factor of 16, but 2 is not a square number, while 4 is a factor and it is a square number, but it is not the greatest square factor. The greatest square factor of 16 is 16. The greatest square factor of 32 is 16. Complete the loop to print the greatest square factor of a number. You will use two `if` statements, a modulus (`%`), and exponents."
      ]
    },
    {
      "cell_type": "code",
      "metadata": {
        "id": "SRbIgfWr4Q-E"
      },
      "source": [
        "import math\n",
        "\n",
        "n = int(input('Enter an integer to find the greatest square factor: '))\n",
        "\n",
        "max_factor = 1\n",
        "upper_limit = math.floor(math.sqrt(n)) + 1\n",
        "\n",
        "# Un-comment the next line and write your code here\n",
        "# for i in range(upper_limit):\n",
        "    \n",
        "    \n",
        "\n",
        "print(\"x\")\n",
        "\n",
        "# Only change code above this line\n",
        "# Below are tests. You can look at them if you like, but do not change them.\n",
        "\n",
        "import re\n",
        "from IPython.display import HTML\n",
        "\n",
        "print(\" \")\n",
        "code_count=0\n",
        "code = In[-1].split('# Only change code above this line')[0];\n",
        "if re.search(\"if n\\%\\(i\\*\\*2\\)==0:\", code):\n",
        "    code_count = code_count + 1\n",
        "else:\n",
        "    print(\"Your code should inlcude 'if n%(i**2)==0:'\")\n",
        "\n",
        "if re.search(\"i\\*\\*2>max_factor:\", code):\n",
        "    code_count = code_count + 1\n",
        "else:\n",
        "    print(\"Your code should inlcude 'if i**2>max_factor:'\")\n",
        "\n",
        "if re.search(\"print\\(max_factor\\)\", code):\n",
        "    code_count = code_count + 1\n",
        "else:\n",
        "    print(\"Your code should inlcude 'print(max_factor)'\")\n",
        "\n",
        "if code_count>=3:\n",
        "    print(\"Code test passed\")\n",
        "\n",
        "\n",
        "    \n",
        "HTML('''<br><div style=\"font-family:Monospace\"><span style=\"color: #b30000\"id=\"error\"></span><span id=\"message\"></span></div><script type=\"text/javascript\">const output=document.getElementsByTagName('pre')[0];function appendMessage(message, color){const el1=document.getElementById('error');const el2=document.getElementById('message');if(color === '#000')el1.innerText+='Assertion Error';el2.style.color=color;el2.innerText+=message}try{\n",
        "if(/[x]/.test(output.innerText))throw\"Your code should output a number\";\n",
        "appendMessage('Output Test Passed')}catch(e){appendMessage(e)}</script>''')\n",
        "\n"
      ],
      "execution_count": null,
      "outputs": []
    },
    {
      "cell_type": "markdown",
      "metadata": {
        "id": "a6Kr7wKq4SBP"
      },
      "source": [
        "# Step 17 - Dividing out Factors "
      ]
    },
    {
      "cell_type": "markdown",
      "metadata": {
        "id": "dlB9GF164SBP"
      },
      "source": [
        "Building upon your code from the previous step, this code will divide out the greatest square factor of a number. You don't need to change anything; just run the code below a few times, inputting different numbers each time."
      ]
    },
    {
      "cell_type": "code",
      "metadata": {
        "id": "0KCr-ImL4SBQ"
      },
      "source": [
        "import math\n",
        "\n",
        "x = int(input('Enter an integer to factor: '))\n",
        "upper_limit = math.floor(math.sqrt(x)) + 1\n",
        "square_root = 1\n",
        "max_factor = 1\n",
        "other_factor = 1\n",
        "\n",
        "# Notice what the loop is doing here\n",
        "for i in range(1, upper_limit):\n",
        "    # checking for square factors\n",
        "    if x%(i**2)==0:\n",
        "        # nested if statement\n",
        "        if i**2 > max_factor:\n",
        "            # finding the greatest square factor\n",
        "            max_factor = i**2\n",
        "\n",
        "# dividing out the greatest square factor\n",
        "other_factor = x/max_factor\n",
        "\n",
        "print(\"\", x, \" = \", max_factor, \" * \", other_factor)\n",
        "print(\" \")\n",
        "print(\"Test passed. You can go on to the next step.\")"
      ],
      "execution_count": null,
      "outputs": []
    },
    {
      "cell_type": "markdown",
      "metadata": {
        "id": "IIb5MHzI4TAU"
      },
      "source": [
        "# Step 18 - Factoring Square Roots"
      ]
    },
    {
      "cell_type": "markdown",
      "metadata": {
        "id": "F9mLn2vR4TAU"
      },
      "source": [
        "The last four steps prepared you for this.<br>\n",
        "To factor a square root, you want to divide out any perfect square factors.<br> \n",
        "For example: $\\sqrt{12}$ = $\\sqrt{4 * 3}$ = 2$\\sqrt{3}$<br>\n",
        "Because 4 is a square number, the square root of 4 is now outside the radical.<br>\n",
        "You will import `sympy` and `symbols` to use the radical ($\\sqrt{x}$) in the output.<br>\n",
        "Use the code from the previous step (without changing much).<br>\n",
        "Your goal is to ask for a number and output the factored square root.<br>\n",
        "The radical formatting (using sympy and symbols) is already done for you."
      ]
    },
    {
      "cell_type": "code",
      "metadata": {
        "id": "ucg7J-8m4TAU"
      },
      "source": [
        "import math\n",
        "import sympy\n",
        "from sympy import symbols\n",
        "\n",
        "x = int(input('Without the radical, enter a square root to factor: '))\n",
        "\n",
        "# Use these variables\n",
        "upper_limit = math.floor(math.sqrt(x)) + 1\n",
        "square_root = 1\n",
        "max_factor = 1\n",
        "other_factor = 1\n",
        "\n",
        "# Write your code below this line\n",
        "\n",
        "\n",
        "\n",
        "\n",
        "\n",
        "# Write your code above this line\n",
        "# Don't change anything below this line\n",
        "\n",
        "square_root = int(square_root)\n",
        "other_factor = int(other_factor)\n",
        "output = square_root*sympy.sqrt(other_factor)\n",
        "# output\n",
        "\n",
        "\n",
        "# Below are tests. You can look at them if you like, but do not change them.\n",
        "\n",
        "import re\n",
        "from IPython.display import HTML\n",
        "\n",
        "print(\" \")\n",
        "code_count=0\n",
        "code = In[-1].split('# Only change code above this line')[0];\n",
        "if re.search(\"if x\\s*\\%\\s*\\(i\\*\\*2\\)==0:\", code):\n",
        "    code_count = code_count + 1\n",
        "else:\n",
        "    print(\"Your code should inlcude 'if x%(i**2)==0:'\")\n",
        "\n",
        "if re.search(\"if i\\*\\*2\\s*>\\s*max_factor:\", code):\n",
        "    code_count = code_count + 1\n",
        "else:\n",
        "    print(\"Your code should inlcude 'if i**2\\s*>\\s*max_factor:'\")\n",
        "\n",
        "if re.search(\"square_root = math.sqrt\\(max_factor\\)\", code):\n",
        "    code_count = code_count + 1\n",
        "else:\n",
        "    print(\"Your code should inlcude 'square_root = math.sqrt(max_factor)'\")\n",
        "\n",
        "if code_count>=3:\n",
        "    print(\"Code test passed\")\n",
        "\n",
        "print(\"Output test passed if this is this your factored square root:\")\n",
        "output\n",
        "\n"
      ],
      "execution_count": null,
      "outputs": []
    },
    {
      "cell_type": "markdown",
      "metadata": {
        "id": "4VnLdwgZ4WHz"
      },
      "source": [
        "# Step 19 - Rounding"
      ]
    },
    {
      "cell_type": "markdown",
      "metadata": {
        "id": "3fxJA-yI4WH0"
      },
      "source": [
        "If you only want a certain number of decimal places, use the `round()` function.This takes two arguments: the number to round and the number of decimal places, so round(2.468, 2) will return `2.47`. To round a large number instead of a decimal number, make the second argument negative, so round(2345, -3) will return `2000`. Finish the code below so that it prints the first number rounded to the nearest million (six zeros) and the second number rounded to 3 decimal places."
      ]
    },
    {
      "cell_type": "code",
      "metadata": {
        "id": "4n4mYI554WH0"
      },
      "source": [
        "a = 14588132\n",
        "b = 0.006538298336\n",
        "\n",
        "# Write your code here\n",
        "\n",
        "\n",
        "\n",
        "# Only change code above this line\n",
        "# Below are tests. You can look at them if you like, but do not change them.\n",
        "\n",
        "import re\n",
        "from IPython.display import HTML\n",
        "\n",
        "print(\" \")\n",
        "code_count = 0\n",
        "code = In[-1].split('# Only change code above this line')[0];\n",
        "if re.search(\"print\\(round\\(a,-6\\)\", code):\n",
        "    code_count = code_count + 1\n",
        "else:\n",
        "    print(\"Your code should inlcude 'print(round(a,-6)'\")\n",
        "     \n",
        "if re.search(\"print\\(round\\(b,3\\)\", code):\n",
        "    code_count = code_count + 1\n",
        "else:\n",
        "    print(\"Your code should inlcude 'print(round(b,3)'\")\n",
        "\n",
        "if code_count >= 2:\n",
        "    print(\"Code test passed\")\n",
        "\n",
        "HTML('''<br><div style=\"font-family:Monospace\"><span style=\"color: #b30000\"id=\"error\"></span><span id=\"message\"></span></div><script type=\"text/javascript\">const output=document.getElementsByTagName('pre')[0];function appendMessage(message, color){const el1=document.getElementById('error');const el2=document.getElementById('message');if(color === '#000')el1.innerText+='Assertion Error';el2.style.color=color;el2.innerText+=message}try{\n",
        "if(!/[1][5][0]/.test(output.innerText) && !/\\.[0][0][7]/.test(output.innerText))throw\"Your code should output 15000000 and 0.007\";\n",
        "appendMessage('Output Test Passed')}catch(e){appendMessage(e)}</script>''')\n",
        "\n"
      ],
      "execution_count": null,
      "outputs": []
    },
    {
      "cell_type": "markdown",
      "metadata": {
        "id": "98oHO4mh4X3e"
      },
      "source": [
        "# Step 20 - Solving for x"
      ]
    },
    {
      "cell_type": "markdown",
      "metadata": {
        "id": "jYh9MRv24X3e"
      },
      "source": [
        "In Algebra, `X` often refers to the unknown number in an equation. To find the value of `x` we use algebra rules to get to `x = ` [some number]. Sympy is a Python library to work with symbolic math. The following code works to solve an equation set equal to zero. Run the code and remember to use Python syntax to enter an equation (with \"x\" as the variable) and see the solution."
      ]
    },
    {
      "cell_type": "code",
      "metadata": {
        "id": "H4HFJdc34X3e"
      },
      "source": [
        "import sympy\n",
        "from sympy import symbols\n",
        "from sympy.solvers import solve\n",
        "\n",
        "x = symbols('x')\n",
        "\n",
        "eq = input('Enter an equation to solve for x: 0 = ')\n",
        "solve(eq,x)\n",
        "\n",
        "\n",
        "# Below are tests. You can look at them if you like, but do not change them.\n",
        "\n",
        "print(\"If you didn't get a syntax error, you are ready for the project\")"
      ],
      "execution_count": null,
      "outputs": []
    }
  ]
}